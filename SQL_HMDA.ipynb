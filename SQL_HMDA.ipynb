{
 "cells": [
  {
   "cell_type": "markdown",
   "metadata": {},
   "source": [
    "## SQL Loan-Income-State Database for Loan Risk Analysis\n",
    "\n",
    "## 100 Points (will be converted to 15 points)"
   ]
  },
  {
   "cell_type": "markdown",
   "metadata": {},
   "source": [
    "In this assignment, you will work on the Home Mortgage Disclosure Act (HMDA) dataset from US government ([link](https://www.consumerfinance.gov/data-research/hmda/historic-data/)). Specifically, you will work on the nationalwide records of 2015 as a zipped CSV file (`hmda_2015_nationwide_first-lien-owner-occupied-1-4-family-records_labels.zip`).\n",
    "\n",
    "**<font color=\"red\">The goal of this assignment is to gather statistics useful to estimate the percentage of high risk applicants per state. The obtained results are presented as an SQL table accompanied by a scatter plot of average income versus average loan amount for every US state.</font>**\n",
    "\n",
    "This goal is achieved by completing five major tasks:\n",
    "\n",
    "- [Data Extraction (collect applicants Loan-Income per state) and Cleaning (remove missing values)](#task-1-15-pts-data-extraction-collect-applicants-loan-income-per-state-and-cleaning-remove-missing-values)\n",
    "- [Statistics per State of the Loan-Income-Applicants Data (min, max, average)](#task-2-30-pts-statistics-per-state-of-the-loan-income-applicants-data-min-max-average)\n",
    "- [Creation of a Basic SQL Table from the Loan-Income-State Data](#task-3-15-pts-creation-of-a-basic-sql-table-from-the-loan-income-state-data)\n",
    "- [Detection of High-Loan and High-Risk Applicants and Extension of the Basic SQL Table with this Information](#task-4-20-pts-detection-of-high-loan-and-high-risk-applicants-and-extension-of-the-basic-sql-table-with-this-information)\n",
    "- [Creation of a Scatter Plot of High-Risk States (average income versus average loan amount)](#task-5-5-pts-creation-of-a-scatter-plot-of-high-risk-states-average-income-versus-average-loan-amount)"
   ]
  },
  {
   "cell_type": "markdown",
   "metadata": {},
   "source": [
    "### Note: The first step to complete is to import the necessary libraries indicated below"
   ]
  },
  {
   "cell_type": "markdown",
   "metadata": {},
   "source": [
    "Please make sure you run the next cell to import the necessary libraries before you start working on the assigned tasks."
   ]
  },
  {
   "cell_type": "code",
   "execution_count": 1,
   "metadata": {},
   "outputs": [],
   "source": [
    "# For reading csv in zip files\n",
    "import zipfile\n",
    "from io import TextIOWrapper\n",
    "import csv\n",
    "\n",
    "# For plots\n",
    "from matplotlib import pyplot as plt\n",
    "\n",
    "# For connecting to MySQL\n",
    "from mysql.connector import connect, Error\n",
    "import time\n",
    "\n",
    "# user-defined module to get all the states' abbreviations\n",
    "from util import state_abbrs\n",
    "\n",
    "#another import\n",
    "import numpy as np\n",
    "#import sys, mysql.connector\n",
    "#print(mysql.connector.__version__)\n",
    "#print(sys.executable)"
   ]
  },
  {
   "cell_type": "markdown",
   "metadata": {},
   "source": [
    "### Task 1 (15 pts): Data Extraction (collect applicants Loan-Income per state) and Cleaning (remove missing values)"
   ]
  },
  {
   "cell_type": "markdown",
   "metadata": {},
   "source": [
    "#### Subtask 1.1 (5 pts): Extract the data from the zipped CSV file"
   ]
  },
  {
   "cell_type": "markdown",
   "metadata": {},
   "source": [
    "Write a function `read_zip_csv` following the code template provided below. This function should take three inputs and produce one output as indicated next. You just need to complete the missing code in the cell containing the string `\"\"\"__Your_Code_Here__\"\"\"`.\n",
    "\n",
    "\n",
    "- **Input 1**: a string `zip_file_name` representing the path to a zip file.\n",
    "- **Input 2**: a string `csv_file_name` representing the name of a CSV file within the zip file.\n",
    "- **Input 3**: a list of string `column_names` specifying the names of the columns of interest.\n",
    "- **Output**: a list of lists of strings `data`, where each inner list represents a row containing only the specified columns according to **Input 3** from the CSV file.\n",
    "\n",
    "Note: In order to complete the missing code, it is imperative that you understand the intended purpose of the code template."
   ]
  },
  {
   "cell_type": "code",
   "execution_count": 2,
   "metadata": {},
   "outputs": [],
   "source": [
    "def read_zip_csv(zip_file_name, csv_file_name, column_names):\n",
    "    \"\"\"\n",
    "    Read a csv file from a zip file, and return data in the specified columns\n",
    "    IN: zip_file_name, str, the name of the zip file\n",
    "        csv_file_name, str, the name of the csv file in the zip file\n",
    "        column_names, list[str], the names of the columns to extract\n",
    "    OUT: data, list[list[str]], the data from the csv file in the specified columns\n",
    "    \"\"\"\n",
    "\n",
    "    data = []\n",
    "    # use zipfile to open the zip file directly\n",
    "    with zipfile.ZipFile(zip_file_name) as z:\n",
    "        with z.open(csv_file_name) as f:\n",
    "            # use csv to read the zipped csv file\n",
    "            reader = csv.DictReader(TextIOWrapper(f, 'utf-8'))\n",
    "            # iterate through the rows of the csv file\n",
    "            for idx, row in enumerate(reader, start=1):\n",
    "                # extract the data in the specified columns\n",
    "                data.append([str(row.get(col,\" \")) for col in column_names])\n",
    "                \n",
    "                if idx % 1_000_000 == 0:\n",
    "                    print(f\"Read {idx} rows\")\n",
    "    return data"
   ]
  },
  {
   "cell_type": "markdown",
   "metadata": {},
   "source": [
    "In this assignment, we are interested in the following three columns of the HMDA dataset: `state_abbr`, `loan_amount_000s` and `applicant_income_000s`. Please run the cell below to extract the information in these three columns before moving on to the next subtask."
   ]
  },
  {
   "cell_type": "code",
   "execution_count": 3,
   "metadata": {},
   "outputs": [
    {
     "name": "stdout",
     "output_type": "stream",
     "text": [
      "Read 1000000 rows\n",
      "Read 2000000 rows\n",
      "Read 3000000 rows\n",
      "Read 4000000 rows\n",
      "Read 5000000 rows\n",
      "Read 6000000 rows\n",
      "[['CA', '265', '91'], ['CA', '417', '150'], ['OR', '148', '53'], ['FL', '264', '60'], ['ME', '285', '115']]\n"
     ]
    }
   ],
   "source": [
    "if __name__ == \"__main__\":\n",
    "    # The code in this cell calls the function defined above.\n",
    "    # It loads the three columns into a Python list named `data`.\n",
    "    # Before proceeding, it is a good idea to run this code to see a snapshot of the data.\n",
    "    data = read_zip_csv(\n",
    "        \"hmda_2015_nationwide_first-lien-owner-occupied-1-4-family-records_labels.zip\",\n",
    "        \"hmda_2015_nationwide_first-lien-owner-occupied-1-4-family-records_labels.csv\",\n",
    "        ['state_abbr', 'loan_amount_000s', 'applicant_income_000s']\n",
    "    )\n",
    "    # print the first 5 rows of the data\n",
    "    print(data[:5])"
   ]
  },
  {
   "cell_type": "markdown",
   "metadata": {},
   "source": [
    "#### Subtask 1.2 (10 pts): Clean the extracted data"
   ]
  },
  {
   "cell_type": "markdown",
   "metadata": {},
   "source": [
    "Write a function `clean_data` that takes two inputs and produces two outputs as indicated below. You just need to complete the missing code in the cell containing the string `\"\"\"__Your_Code_Here__\"\"\"`.\n",
    "\n",
    "- **Input 1**: a list of lists of strings `data` as extracted from the CSV file. Each sublist represents a row with the relevant columns.\n",
    "- **Input 2**: a list of functions `cleaners`. Each function converts values in a specific column to a desired type, with the order of functions in the list matching the column order in `data`. Each function should have the following signature:\n",
    "    - **input**: a string `column_value` to be cleaned.\n",
    "    - **output**: A cleaned value (of type string, int, or float, depending on the column).\n",
    "- **Output 1**: a list of tuples `cleaned_data`, where each tuple represents a row of cleaned data in the desired types.\n",
    "- **Output 2**: a pair of integers `(n_rows_cleaned, n_rows_discarded)` representing the number of rows cleaned and the number discarded, respectively.\n",
    "\n",
    "Note: If a value in a row fails to be cleaned, the entire row should be discarded."
   ]
  },
  {
   "cell_type": "code",
   "execution_count": 4,
   "metadata": {},
   "outputs": [],
   "source": [
    "def clean_data(data, cleaners):\n",
    "    \"\"\"\n",
    "    Clean the data using the specified cleaners\n",
    "    IN: data, list[list[str]], the data to clean\n",
    "        cleaners, list[function(str) -> any], the functions to clean each column\n",
    "    OUT: cleaned_data, list[tuple], the cleaned data\n",
    "         (n_rows_cleaned, n_rows_discarded), tuple(int, int) the number of rows cleaned and discarded\n",
    "    \"\"\"\n",
    "\n",
    "    cleaned_data = []\n",
    "    n_rows_cleaned = 0\n",
    "    n_rows_discarded = 0\n",
    "    for row in data:\n",
    "        # use try-except to filter out the rows that cannot be cleaned\n",
    "        try:\n",
    "            cleaned_row = tuple(func(val) for func, val in zip(cleaners, row))\n",
    "\n",
    "\n",
    "        except ValueError as e:\n",
    "            # some values in the row are invalid, so discard the row\n",
    "            n_rows_discarded += 1\n",
    "\n",
    "        else:\n",
    "            # all values in the row are valid, so append the cleaned row\n",
    "            cleaned_data.append(cleaned_row)\n",
    "            n_rows_cleaned += 1\n",
    "            \n",
    "\n",
    "    return cleaned_data, (n_rows_cleaned, n_rows_discarded)"
   ]
  },
  {
   "cell_type": "markdown",
   "metadata": {},
   "source": [
    "In this assignment, we need to clean the data in the following ways:\n",
    "\n",
    "- `state_abbr`: convert to uppercase letters, and if it is not a valid 2-letter state abbreviation, discard the row.\n",
    "- `loan_amount_000s`: convert to integers, and if it is empty, discard the row.\n",
    "- `applicant_income_000s`: convert to integers, and if it is empty, discard the row."
   ]
  },
  {
   "cell_type": "code",
   "execution_count": 5,
   "metadata": {},
   "outputs": [],
   "source": [
    "def clean_state_abbr(column_value):\n",
    "    \"\"\"\n",
    "    Clean a state abbreviation\n",
    "    IN: column_value, str, the state abbreviation to clean\n",
    "    OUT: str, the cleaned state abbreviation in uppercase\n",
    "    EXCEPTION: ValueError, if the state abbreviation is not valid\n",
    "    \"\"\"\n",
    "    # state_abbrs is a set of all the state abbreviations\n",
    "    # you can use it to check if a state abbreviation is valid\n",
    "    \"\"\"__Your_Code_Here__\"\"\"\n",
    "    s = (column_value or \"\").strip().upper()\n",
    "    if len(s) != 2 or s not in state_abbrs:\n",
    "        raise ValueError(\"Invalid State Abbreviation\")\n",
    "    return s\n",
    "\n",
    "def clean_loan_amount(column_value):\n",
    "    \"\"\"\n",
    "    Clean a loan amount\n",
    "    IN: column_value, str, the loan amount to clean\n",
    "    OUT: int, the cleaned loan amount\n",
    "    EXCEPTION: ValueError, if the loan amount is not an integer\n",
    "    \"\"\"\n",
    "    # convert to integer\n",
    "    \"\"\"__Your_Code_Here__\"\"\"\n",
    "    s = (column_value or \"\").strip()\n",
    "    if s == \"\":\n",
    "        raise ValueError(\"Empty Loan Amount\")\n",
    "    s.replace(\",\",\"\")\n",
    "    return int(s)\n",
    "\n",
    "def clean_applicant_income(column_value):\n",
    "    \"\"\"\n",
    "    Clean an applicant income\n",
    "    IN: column_value, str, the applicant income to clean\n",
    "    OUT: int, the cleaned applicant income\n",
    "    EXCEPTION: ValueError, if the applicant income is not an integer\n",
    "    \"\"\"\n",
    "    # convert to integer\n",
    "    \"\"\"__Your_Code_Here__\"\"\"\n",
    "    s = (column_value or \"\").strip()\n",
    "    if s == \"\":\n",
    "        raise ValueError(\"Empty Applicant Income\")\n",
    "    s.replace(\",\",\"\")\n",
    "    return int(s)"
   ]
  },
  {
   "cell_type": "markdown",
   "metadata": {},
   "source": [
    "Please run the cell below to clean the three columns before moving on to the next task."
   ]
  },
  {
   "cell_type": "code",
   "execution_count": null,
   "metadata": {},
   "outputs": [],
   "source": [
    "if __name__ == \"__main__\":\n",
    "    # The code in this cell calls the functions defined above.\n",
    "    # It cleans the data using the specified cleaners.\n",
    "    # Before proceeding, it is a good idea to run this code to see a snapshot of the cleaned data.\n",
    "    cleaned_data, (n_rows_cleaned, n_rows_discarded) = clean_data(\n",
    "        data,\n",
    "        [\n",
    "            clean_state_abbr,\n",
    "            clean_loan_amount,\n",
    "            clean_applicant_income,\n",
    "        ],\n",
    "    )\n",
    "    # print the first 5 rows of the cleaned data\n",
    "    print(cleaned_data[:5])\n",
    "    # print the number of rows cleaned and discarded\n",
    "    print(n_rows_cleaned, n_rows_discarded)"
   ]
  },
  {
   "cell_type": "markdown",
   "metadata": {},
   "source": [
    "### Task 2 (30 pts): Statistics per State of the Loan-Income-Applicants Data (min, max, average)"
   ]
  },
  {
   "cell_type": "markdown",
   "metadata": {},
   "source": [
    "#### Subtask 2.1 (12 pts): Check the statistics of the cleaned data and store the results in dictionaries"
   ]
  },
  {
   "cell_type": "markdown",
   "metadata": {},
   "source": [
    "Write a function `check_data` that takes three inputs and produces one output as indicated below. You just need to complete the missing code in the cell containing the string `\"\"\"__Your_Code_Here__\"\"\"`.\n",
    "\n",
    "- **Input 1**: a list of tuples `cleaned_data` representing cleaned rows from the CSV file.\n",
    "- **Input 2**: a list of functions `checkers`. Each function checks a specific column, with the order of functions in the list matching the column order in`cleaned_data`. Each function should have the following signature:\n",
    "    - **input a**: a cleaned data value (string, int, or float, depending on the column).\n",
    "    - **input b**: a dictionary representing the statistical summary of the column up to, but excluding, the current row, based on the column type.\n",
    "    - **output**: A dictionary representing the updated statistical summary of the column, including the current row.\n",
    "- **Input 3**: a list of dictionaries `initial_stats`, where each dictionary represents the initial statistical summary for a column. The order of dictionaries in the list should match the order of columns in `cleaned_data`.\n",
    "- **Output**: a list of tuples `final_stats`, where each tuple represents the final statistical summary of a column. The order of tuples in the list should match the order of columns in `cleaned_data`."
   ]
  },
  {
   "cell_type": "code",
   "execution_count": null,
   "metadata": {},
   "outputs": [],
   "source": [
    "def check_data(cleaned_data, checkers, initial_stats):\n",
    "    \"\"\"\n",
    "    Check the data using the specified checkers\n",
    "    IN: cleaned_data, list[tuple], the cleaned data\n",
    "        checkers, list[function(any, dict) -> dict], the functions to check each column\n",
    "        initial_stats, list[dict], the initial statistics for each column\n",
    "    OUT: final_stats, list[dict], the final statistics for each column\n",
    "    \"\"\"\n",
    "\n",
    "    # initialize the final statistics\n",
    "    final_stats = initial_stats.copy()\n",
    "    # iterate through the cleaned data\n",
    "    for row in cleaned_data:\n",
    "        # update the statistics using the checkers\n",
    "        for i, value in enumerate(row):\n",
    "            checker = checkers[i]\n",
    "            stats_dict = final_stats[i]\n",
    "            # update the stats with this column’s checker\n",
    "            final_stats[i] = checker(value, stats_dict)\n",
    "    return final_stats"
   ]
  },
  {
   "cell_type": "markdown",
   "metadata": {},
   "source": [
    "In this assignment we are going to check the data as follows:\n",
    "\n",
    "- `state_abbr`: Count the occurrences of each state in the data.\n",
    "- `loan_amount_000s`: Record the **dictionary** keys `min`, `max`, and `total` loan amounts (`total` can be used to calculate the average loan amount).\n",
    "- `applicant_income_000s`: Record the **dictionary** keys `min`, `max`, and `total` applicant incomes (`total` can be used to calculate the average applicant income).\n",
    "\n",
    "The initial statistical summary for each column is a **dictionary** with the following structure:\n",
    "```python\n",
    "state_abbr_stat = {abbr: 0 for abbr in state_abbrs}\n",
    "loan_amount_000s_stat = {'min': float('inf'), 'max': float('-inf'), 'total': 0}\n",
    "applicant_income_000s_stat = {'min': float('inf'), 'max': float('-inf'), 'total': 0}\n",
    "```"
   ]
  },
  {
   "cell_type": "code",
   "execution_count": null,
   "metadata": {},
   "outputs": [],
   "source": [
    "def check_state_abbr(column_value, stats):\n",
    "    \"\"\"\n",
    "    Check a state abbreviation, updating the count of each state abbreviation\n",
    "    IN: column_value, str, the state abbreviation to check\n",
    "        stats, dict{state_abbr: int}, the current count of each state abbreviation\n",
    "    OUT: stats, dict{state_abbr: int}, the updated count of each state abbreviation\n",
    "    \"\"\"\n",
    "    # update counts\n",
    "    \"\"\"__Your_Code_Here__\"\"\"\n",
    "    stats[column_value]=stats.get(column_value,0)+1\n",
    "\n",
    "    return stats\n",
    "\n",
    "def check_loan_amount(column_value, stats):\n",
    "    \"\"\"\n",
    "    Check a loan amount, updating the minimum, maximum, and total loan amount\n",
    "    IN: column_value, int, the loan amount to check\n",
    "        stats, dict{min: int, max: int, total: int}, the current statistics for the loan amount\n",
    "    OUT: dict{min: int, max: int, total: int}, the updated statistics for the loan amount\n",
    "    \"\"\"\n",
    "    # update min, max, and total\n",
    "    \"\"\"__Your_Code_Here__\"\"\"\n",
    "    if column_value<stats['min']:\n",
    "        stats['min'] = column_value\n",
    "    if column_value > stats['max']:\n",
    "        stats['max'] = column_value\n",
    "    stats['total'] += column_value\n",
    "\n",
    "    return stats\n",
    "\n",
    "def check_applicant_income(column_value, stats):\n",
    "    \"\"\"\n",
    "    Check an applicant income, updating the minimum, maximum, and total applicant income\n",
    "    IN: column_value, int, the applicant income to check\n",
    "        stats, dict, the current statistics for the applicant income\n",
    "    OUT: dict, the updated statistics for the applicant income\n",
    "    \"\"\"\n",
    "    # update min, max, and total\n",
    "    \"\"\"__Your_Code_Here__\"\"\"\n",
    "    if column_value<stats['min']:\n",
    "        stats['min'] = column_value\n",
    "    if column_value > stats['max']:\n",
    "        stats['max'] = column_value\n",
    "    stats['total'] += column_value\n",
    "    return stats"
   ]
  },
  {
   "cell_type": "markdown",
   "metadata": {},
   "source": [
    "Before moving on to the next subtask, please run the cell below to check the statistics of the cleaned data."
   ]
  },
  {
   "cell_type": "code",
   "execution_count": null,
   "metadata": {},
   "outputs": [
    {
     "name": "stdout",
     "output_type": "stream",
     "text": [
      "{'MS': 30905, 'MT': 18616, 'RI': 17833, 'ND': 14356, 'CA': 773698, 'VA': 170224, 'TN': 116789, 'KY': 66879, 'NH': 25679, 'VT': 9838, 'MA': 137864, 'IA': 60863, 'SD': 14852, 'CO': 179199, 'OH': 191996, 'WI': 118921, 'LA': 63858, 'DE': 16251, 'CT': 55595, 'MI': 187311, 'NM': 25922, 'OK': 54561, 'IL': 232359, 'NC': 174309, 'UT': 80916, 'AK': 13461, 'AL': 68445, 'MO': 112591, 'SC': 85533, 'HI': 19554, 'NY': 173334, 'TX': 429625, 'AR': 40409, 'NV': 61941, 'MN': 127833, 'MD': 116378, 'WY': 11012, 'ID': 38450, 'IN': 125134, 'WV': 21243, 'PA': 193844, 'KS': 49711, 'ME': 20815, 'OR': 91122, 'NE': 36678, 'GA': 175591, 'WA': 169632, 'AZ': 147667, 'NJ': 134621, 'FL': 323663}\n",
      "{'min': 1, 'max': 62500, 'total': 1390631712}\n",
      "{'min': 1, 'max': 9999, 'total': 602699003}\n"
     ]
    }
   ],
   "source": [
    "if __name__ == \"__main__\":\n",
    "    # The code in this cell calls the functions defined above.\n",
    "    # It checks the cleaned data using the specified checkers.\n",
    "    # Before proceeding, it is a good idea to run this code to see the final statistics\n",
    "    final_stats = check_data(\n",
    "        cleaned_data,\n",
    "        [\n",
    "            check_state_abbr,\n",
    "            check_loan_amount,\n",
    "            check_applicant_income,\n",
    "        ],\n",
    "        [\n",
    "            {state: 0 for state in state_abbrs},\n",
    "            {'min': float('inf'), 'max': float('-inf'), 'total': 0},\n",
    "            {'min': float('inf'), 'max': float('-inf'), 'total': 0},\n",
    "        ],\n",
    "    )\n",
    "    # print the statistics for state abbreviation\n",
    "    print(final_stats[0])\n",
    "    # print the statistics for loan amount\n",
    "    print(final_stats[1])\n",
    "    # print the statistics for applicant income\n",
    "    print(final_stats[2])"
   ]
  },
  {
   "cell_type": "markdown",
   "metadata": {},
   "source": [
    "#### Subtask 2.2 (4 pts): Plot the bar chart of the number of applicants by state"
   ]
  },
  {
   "cell_type": "markdown",
   "metadata": {},
   "source": [
    "Write a function `plot_applicants_by_state` that takes one input and produces a plot as indicated below. You just need to complete the missing code in the cell containing the string `\"\"\"__Your_Code_Here__\"\"\"`.\n",
    "\n",
    "- **Input**: a dictionary `state_abbr_stat` representing the number of applicants per state.\n",
    "    - **key**: a state abbreviation.\n",
    "    - **value**: the number of applicants.\n",
    "- **Plot**: a bar chart displaying the number of applicants per state, sorted by the applicant count in descending order. Ties should be broken by sorting state abbreviations in ascending order.\n",
    "    - **x-axis**: state abbreviation.\n",
    "    - **y-axis**: the number of applicants."
   ]
  },
  {
   "cell_type": "code",
   "execution_count": null,
   "metadata": {},
   "outputs": [],
   "source": [
    "def plot_applicants_by_state(state_abbr_stat):\n",
    "    \"\"\"\n",
    "    Plot the number of applicants by state\n",
    "    IN: state_abbr_stat, dict{str: int}, the number of applicants by state\n",
    "    \"\"\"\n",
    "\n",
    "    # sort the states by the number of applicants in descending order\n",
    "    \"\"\"__Your_Code_Here__\"\"\"\n",
    "    sorted_items = sorted(state_abbr_stat.items(), key = lambda kv:(-kv[1],kv[0]))\n",
    "\n",
    "    # extract the states and counts\n",
    "    states = [state for state, count in sorted_items]\n",
    "    counts = [count for state, count in sorted_items]\n",
    "\n",
    "    # increase the figure size to avoid overlapping labels\n",
    "    plt.figure(figsize=(15, 5))\n",
    "\n",
    "    # draw a bar plot\n",
    "    # if you forgot how to specify a bar plot, you can check assignment 2\n",
    "    \"\"\"__Your_Code_Here__\"\"\"\n",
    "    plt.figure(figsize=(15,5))\n",
    "    plt.bar(states, counts)\n",
    "    plt.xticks(rotation=90) # dont need this\n",
    "\n",
    "    # set the labels and title\n",
    "    plt.xlabel('State Abbreviation')\n",
    "    plt.ylabel('Number of applicants')\n",
    "    plt.title('Number of applicants by State')\n",
    "    plt.show()"
   ]
  },
  {
   "cell_type": "markdown",
   "metadata": {},
   "source": [
    "Before moving on to the next subtask, please run the cell below to plot the bar chart of the number of applicants by state."
   ]
  },
  {
   "cell_type": "code",
   "execution_count": null,
   "metadata": {},
   "outputs": [
    {
     "data": {
      "text/plain": [
       "<Figure size 1500x500 with 0 Axes>"
      ]
     },
     "metadata": {},
     "output_type": "display_data"
    },
    {
     "data": {
      "image/png": "[encoded data removed]",
      "text/plain": [
       "<Figure size 1500x500 with 1 Axes>"
      ]
     },
     "metadata": {},
     "output_type": "display_data"
    }
   ],
   "source": [
    "if __name__ == \"__main__\":\n",
    "    # The code in this cell calls the function defined above.\n",
    "    # It plots the number of applicants by state.\n",
    "    # Before proceeding, it is a good idea to run this code to see the plot.\n",
    "    plot_applicants_by_state(final_stats[0])"
   ]
  },
  {
   "cell_type": "markdown",
   "metadata": {},
   "source": [
    "#### Subtask 2.3 (12 pts): Plot Average Loan Amount and Average Applicant Income by State"
   ]
  },
  {
   "cell_type": "markdown",
   "metadata": {},
   "source": [
    "##### Subsubtask 2.3.1 (4 pts): Calculate the total loan amount and total applicant income by state"
   ]
  },
  {
   "cell_type": "markdown",
   "metadata": {},
   "source": [
    "Write a function `get_total_loan_income_by_state` that takes one input and produces one output as indicated below. You just need to complete the missing code in the cell containing the string `\"\"\"__Your_Code_Here__\"\"\"`.\n",
    "\n",
    "- **Input**: a list of tuples `cleaned_data` extracted and cleaned from the CSV file.\n",
    "- **Output**: a dictionary `total_loan_income_by_state` representing the total loan amount and total applicant income by state.\n",
    "    - **key**: a state abbreviation.\n",
    "    - **value**: a pair of integers `(total_loan_amount, total_applicant_income)`."
   ]
  },
  {
   "cell_type": "code",
   "execution_count": null,
   "metadata": {},
   "outputs": [],
   "source": [
    "from collections import defaultdict\n",
    "\n",
    "def get_total_loan_income_by_state(cleaned_data):\n",
    "    \"\"\"\n",
    "    Get the total loan amount and total applicant income by state\n",
    "    IN: cleaned_data, list[tuple], the cleaned data\n",
    "    OUT: total_loan_income_by_state, dict{str: tuple(int, int)}, the total loan amount and total applicant income by state\n",
    "    \"\"\"\n",
    "    \n",
    "    # initialize the total loan amount and total applicant income by state\n",
    "    totals= defaultdict(lambda:[0,0])\n",
    "\n",
    "    # iterate through the cleaned data to update the total loan amount and total applicant income by state\n",
    "    for state_abbr, loan_amount, applicant_income in cleaned_data:\n",
    "        totals[state_abbr][0] += loan_amount\n",
    "        totals[state_abbr][1] += applicant_income\n",
    "\n",
    "\n",
    "    total_loan_income_by_state = {s: (vals[0], vals[1]) for s, vals in totals.items()}\n",
    "    return total_loan_income_by_state"
   ]
  },
  {
   "cell_type": "markdown",
   "metadata": {},
   "source": [
    "Before moving on to the next subsubtask, please run the cell below to calculate the total loan amount and total applicant income by state."
   ]
  },
  {
   "cell_type": "code",
   "execution_count": 34,
   "metadata": {},
   "outputs": [
    {
     "name": "stdout",
     "output_type": "stream",
     "text": [
      "CA: 315472159, 107017540\n",
      "OR: 22866098, 8907074\n",
      "FL: 70707816, 32073874\n",
      "ME: 3860034, 1848042\n",
      "MI: 31137383, 16748760\n",
      "TX: 93648959, 48176588\n",
      "VA: 50435249, 19587321\n",
      "UT: 18612854, 6915165\n",
      "MO: 19610491, 10168896\n",
      "PA: 36316653, 18915081\n",
      "NY: 52576731, 23521327\n",
      "AZ: 32493482, 13327658\n",
      "IN: 19200996, 10487192\n",
      "MD: 35293796, 14025746\n",
      "OK: 8990303, 4838354\n",
      "IA: 9286597, 5287592\n",
      "GA: 37255347, 17169897\n",
      "WI: 20031831, 10907480\n",
      "TN: 22226440, 10258373\n",
      "SC: 17214694, 7644577\n",
      "NV: 14024085, 5488408\n",
      "MA: 44247221, 18061477\n",
      "IL: 52987749, 26608829\n",
      "NC: 35647623, 16333425\n",
      "WA: 49685068, 18705653\n",
      "WV: 3184781, 1732130\n",
      "NE: 5989364, 3339858\n",
      "CT: 16824140, 7944042\n",
      "CO: 48311422, 18470698\n",
      "OH: 30450547, 17431694\n",
      "NJ: 40592443, 18669523\n",
      "KY: 10662675, 5632376\n",
      "AL: 11675927, 5747304\n",
      "MT: 3878085, 1631574\n",
      "NM: 4904360, 2211500\n",
      "HI: 8341754, 2326665\n",
      "SD: 2632003, 1318731\n",
      "MN: 26514491, 12623242\n",
      "NH: 5763014, 2717371\n",
      "ID: 7114623, 3057282\n",
      "LA: 12147848, 6206142\n",
      "VT: 1939220, 939705\n",
      "RI: 3879971, 1768405\n",
      "AR: 6236993, 3366838\n",
      "WY: 2396788, 1007386\n",
      "KS: 8586117, 4648328\n",
      "MS: 4769377, 2581590\n",
      "ND: 2834063, 1395506\n",
      "AK: 3502078, 1390244\n",
      "DE: 3669969, 1516540\n"
     ]
    }
   ],
   "source": [
    "\n",
    "\n",
    "\n",
    "if __name__ == \"__main__\":\n",
    "    # The code in this cell calls the function defined above.\n",
    "    # It gets the total loan amount and total applicant income by state.\n",
    "    # Before proceeding, it is a good idea to run this code to see the total loan amount and total applicant income by state.\n",
    "    total_loan_income_by_state = get_total_loan_income_by_state(cleaned_data)\n",
    "    # print the total loan amount and total applicant income by state\n",
    "    for state_abbr, (total_loan, total_income) in total_loan_income_by_state.items():\n",
    "        print(f\"{state_abbr}: {total_loan}, {total_income}\")"
   ]
  },
  {
   "cell_type": "markdown",
   "metadata": {},
   "source": [
    "##### Subsubtask 2.3.2 (2 pts): Calculate the average loan amount and average applicant income"
   ]
  },
  {
   "cell_type": "markdown",
   "metadata": {},
   "source": [
    "Write a function `get_avg_loan_income_by_state` that takes three inputs and produces two outputs as indicated below. You just need to complete the missing code in the cell containing the string `\"\"\"__Your_Code_Here__\"\"\"`.\n",
    "\n",
    "- **Input 1**: a dictionary `total_loan_income_by_state` representing the total loan amount and total applicant income by state.\n",
    "- **Input 2**: a dictionary `state_abbr_stat` representing the number of applicants by state.\n",
    "- **Input 3**: a pair of integers `(total_loan_amount, total_applicant_income)` representing the total loan amount and total applicant income across all applicants.\n",
    "- **Output 1**: a dictionary `avg_loan_income_by_state` representing the average loan amount and average applicant income by state.\n",
    "    - **key**: a state abbreviation.\n",
    "    - **value**: a tuple `(avg_loan_amount, avg_applicant_income)`.\n",
    "- **Output 2**: a tuple `(avg_loan_amount, avg_applicant_income)` representing the average loan amount and average applicant income across all applicants."
   ]
  },
  {
   "cell_type": "code",
   "execution_count": 36,
   "metadata": {},
   "outputs": [],
   "source": [
    "def get_avg_loan_income_by_state(total_loan_income_by_state, state_abbr_stat, total_loan_income):\n",
    "    \"\"\"\n",
    "    Get the average loan amount and average applicant income by state\n",
    "    IN: total_loan_income_by_state, dict{str: tuple(int, int)}, the total loan amount and total applicant income by state\n",
    "        state_abbr_stat, dict{str: int}, the number of applicants by state\n",
    "        total_loan_income, tuple(int, int), the total loan amount and total applicant income of all applicants\n",
    "    OUT: avg_loan_income_by_state, dict{str: tuple(float, float)}, the average loan amount and average applicant income by state\n",
    "         avg_loan_income, tuple(float, float), the average loan amount and average applicant income of all applicants.\n",
    "    \"\"\"\n",
    "\n",
    "    # initialize the average loan amount and average applicant income by state\n",
    "    avg_loan_income_by_state = {}\n",
    "    \n",
    "    # calculate the average loan amount and average applicant income by state\n",
    "\n",
    "    for st, cnt in state_abbr_stat.items():\n",
    "        if cnt <= 0:\n",
    "            continue\n",
    "        loan_total, income_total = total_loan_income_by_state.get(st, (0, 0))\n",
    "        avg_loan = loan_total / cnt\n",
    "        avg_income = income_total / cnt\n",
    "        avg_loan_income_by_state[st] = (avg_loan, avg_income)\n",
    "\n",
    "    # calculate the average loan amount and average applicant income of all applicants\n",
    "\n",
    "    total_loan_all, total_income_all = total_loan_income\n",
    "    n_applicants = sum(state_abbr_stat.values())\n",
    "    if n_applicants > 0:\n",
    "        avg_loan_income = (total_loan_all / n_applicants, total_income_all / n_applicants)\n",
    "    else:\n",
    "        avg_loan_income = (0.0, 0.0)\n",
    "\n",
    "    return avg_loan_income_by_state, avg_loan_income"
   ]
  },
  {
   "cell_type": "markdown",
   "metadata": {},
   "source": [
    "Before moving on to the next subsubtask, please run the cell below to calculate the average loan amount and average applicant income by state."
   ]
  },
  {
   "cell_type": "code",
   "execution_count": 37,
   "metadata": {},
   "outputs": [
    {
     "name": "stdout",
     "output_type": "stream",
     "text": [
      "{'MS': (154.32379873806826, 83.53308526128458), 'MT': (208.3199935539321, 87.6436398796734), 'RI': (217.5725340660573, 99.16475074300455), 'ND': (197.41313736416828, 97.20716076901644), 'CA': (407.74586337304737, 138.319525189415), 'VA': (296.2875328978287, 115.0679163925181), 'TN': (190.31278630692958, 87.83680826105198), 'KY': (159.4323330193334, 84.21740755693118), 'NH': (224.42517231979437, 105.82074847151368), 'VT': (197.1152673307583, 95.51788981500304), 'MA': (320.94833313990597, 131.00937880810073), 'IA': (152.58197919918504, 86.87695315709051), 'SD': (177.2153918664153, 88.79147589550229), 'CO': (269.5964932840027, 103.07366670572938), 'OH': (158.59990312298171, 90.79196441592534), 'WI': (168.446540140093, 91.72038580233937), 'LA': (190.23220269974004, 97.18660152212722), 'DE': (225.83034890160604, 93.3197957048797), 'CT': (302.61966004137065, 142.89130317474593), 'MI': (166.23360614165745, 89.4168521870045), 'NM': (189.19682123292955, 85.31363320731425), 'OK': (164.77526071736222, 88.67788346987776), 'IL': (228.04259357287646, 114.51602477201227), 'NC': (204.50821816429445, 93.70385350154037), 'UT': (230.02686736862918, 85.461033664541), 'AK': (260.1647723051779, 103.27939974741847), 'AL': (170.58845788589377, 83.96966907736139), 'MO': (174.17458766686502, 90.31713014361716), 'SC': (201.26376953924216, 89.37576140203197), 'HI': (426.6009000715966, 118.98665234734581), 'NY': (303.32612759181694, 135.69944154060946), 'TX': (217.9783741635147, 112.13637009019494), 'AR': (154.34663070108144, 83.31901309114306), 'NV': (226.410374388531, 88.607029269789), 'MN': (207.41507279028107, 98.74791329312463), 'MD': (303.2686246541443, 120.51887813847978), 'WY': (217.65237922266618, 91.48074827460951), 'ID': (185.0357087126138, 79.51318595578674), 'IN': (153.4434765930922, 83.8076941518692), 'WV': (149.92143294261638, 81.5388598597185), 'PA': (187.34989476073542, 97.57888301933514), 'KS': (172.7206654462795, 93.50703063708234), 'ME': (185.44482344463128, 88.7841460485227), 'OR': (250.9393779767784, 97.74888610873334), 'NE': (163.29581765636075, 91.0588908882709), 'GA': (212.17116480913032, 97.78346840100005), 'WA': (292.89914638747405, 110.27195930013205), 'AZ': (220.04565678181314, 90.25481658054947), 'NJ': (301.53128412357654, 138.68210011810936), 'FL': (218.46122664623388, 99.09651087705421)}\n",
      "(247.09685794706746, 107.09163946430282)\n"
     ]
    }
   ],
   "source": [
    "if __name__ == \"__main__\":\n",
    "    # The code in this cell calls the function defined above.\n",
    "    # It gets the average loan amount and average applicant income by state.\n",
    "    # Before proceeding, it is a good idea to run this code to see the average loan amount and average applicant income by state.\n",
    "    avg_loan_income_by_state, avg_loan_income = get_avg_loan_income_by_state(\n",
    "        total_loan_income_by_state,\n",
    "        final_stats[0],\n",
    "        (final_stats[1]['total'], final_stats[2]['total']),\n",
    "    )\n",
    "    # print the average loan amount and average applicant income by state\n",
    "    print(avg_loan_income_by_state)\n",
    "    # print the average loan amount and average applicant income of all applicants\n",
    "    print(avg_loan_income)"
   ]
  },
  {
   "cell_type": "markdown",
   "metadata": {},
   "source": [
    "##### Subsubtask 2.3.3 (2 pts): Find the ratio of the average loan amount and average applicant income by state"
   ]
  },
  {
   "cell_type": "markdown",
   "metadata": {},
   "source": [
    "Write a function `get_avg_loan_income_ratio_range` that:\n",
    "\n",
    "- **Input**: a dictionary `avg_loan_income_by_state` representing the average loan amount and average applicant income by state.\n",
    "- **Output**: a dictionary `state_avg_loan_income_ratio` representing the ratio of the average loan amount to the average applicant income by state.\n",
    "    - **key**: a state abbreviation.\n",
    "    - **value**: the ratio of the average loan amount to the average applicant income.\n",
    "\n",
    "Note: \n",
    "\n",
    "- Given a specific applicant, the ratio of the loan amount to the applicant income is a measure of the applicant's financial health. A higher ratio means it is more risky (more likely to a financial failure) for the applicant to take a loan.\n",
    "- When calculating the ratio of the average loan amount to the average applicant income by state, one can multiply the number of applicants to both the numerator and the denominator to get ratio of the total loan amount to total applicant income by state. This measures the financial health of the state as a whole."
   ]
  },
  {
   "cell_type": "code",
   "execution_count": 38,
   "metadata": {},
   "outputs": [],
   "source": [
    "def get_avg_loan_income_ratio_range(avg_loan_income_by_state):\n",
    "    \"\"\"\n",
    "    Get the ratio of the average loan amount and average applicant income by state\n",
    "    IN: avg_loan_income_by_state, dict{str: tuple(float, float)}, the average loan amount and average applicant income by state\n",
    "    OUT: state_avg_loan_income_ratio, dict{str: float}, the ratio of the average loan amount and average applicant income by state\n",
    "    \"\"\"\n",
    "\n",
    "    # initialize the ratio of the average loan amount and average applicant income by state\n",
    "    state_avg_loan_income_ratio = {}\n",
    "\n",
    "    # iterate through the average loan amount and average applicant income by state to calculate the ratio\n",
    "    for state_abbr, (avg_loan, avg_income) in avg_loan_income_by_state.items():\n",
    "        if avg_income and avg_income != 0:\n",
    "            state_avg_loan_income_ratio[state_abbr] = avg_loan / avg_income\n",
    "        else:\n",
    "            #if theres no value we can skip this jawn\n",
    "            continue\n",
    "    \n",
    "    return state_avg_loan_income_ratio"
   ]
  },
  {
   "cell_type": "markdown",
   "metadata": {},
   "source": [
    "Before moving on to the next subtask, please run the cell below to find the ratio of the average loan amount and average applicant income by state."
   ]
  },
  {
   "cell_type": "code",
   "execution_count": 39,
   "metadata": {},
   "outputs": [
    {
     "name": "stdout",
     "output_type": "stream",
     "text": [
      "{'MS': 1.8474571872373227, 'MT': 2.3768980138197837, 'RI': 2.19405113647609, 'ND': 2.030849741957397, 'CA': 2.9478547068078744, 'VA': 2.5748926563259977, 'TN': 2.166663271066474, 'KY': 1.8931042600849088, 'NH': 2.12080499865495, 'VT': 2.063647634097935, 'MA': 2.449811884155432, 'IA': 1.7562998431043846, 'SD': 1.995860414292225, 'CO': 2.6155709979124775, 'OH': 1.7468495603468026, 'WI': 1.8365223681363614, 'LA': 1.957391242417592, 'DE': 2.4199618869268202, 'CT': 2.1178311997846944, 'MI': 1.859085866655203, 'NM': 2.2176622202125253, 'OK': 1.8581325384624605, 'IL': 1.9913596723854328, 'NC': 2.1824952819142345, 'UT': 2.691599405075656, 'AK': 2.5190383846288853, 'AL': 2.0315485312765773, 'MO': 1.928477879997986, 'SC': 2.2518831323171966, 'HI': 3.5852836570799833, 'NY': 2.235279114992109, 'TX': 1.9438686483982635, 'AR': 1.8524779035997574, 'NV': 2.555219109074981, 'MN': 2.100450185459488, 'MD': 2.5163578464917307, 'WY': 2.379215117144769, 'ID': 2.327107214839848, 'IN': 1.8308996345256194, 'WV': 1.8386501013203393, 'PA': 1.9199840064126608, 'KS': 1.8471409504664904, 'ME': 2.0887155162058004, 'OR': 2.567184015760956, 'NE': 1.7932989965441644, 'GA': 2.1698060856160057, 'WA': 2.6561525545245597, 'AZ': 2.4380489055166334, 'NJ': 2.1742624597318314, 'FL': 2.2045299548161847}\n"
     ]
    }
   ],
   "source": [
    "if __name__ == \"__main__\":\n",
    "    # The code in this cell calls the function defined above.\n",
    "    # It gets the ratio of the average loan amount and average applicant income by state.\n",
    "    # Before proceeding, it is a good idea to run this code to see the ratio of the average loan amount and average applicant income by state.\n",
    "    state_avg_loan_income_ratio = get_avg_loan_income_ratio_range(avg_loan_income_by_state)\n",
    "    # print the ratio of the average loan amount and average applicant income by\n",
    "    print(state_avg_loan_income_ratio)"
   ]
  },
  {
   "cell_type": "markdown",
   "metadata": {},
   "source": [
    "##### Subsubtask 2.3.4 (4 pts): 2D scatter Plot for the average loan amount and average applicant income by state"
   ]
  },
  {
   "cell_type": "markdown",
   "metadata": {},
   "source": [
    "Write a function `plot_avg_loan_income_by_state` that takes four inputs and produces a plot as indicated below. You just need to complete the missing code in the cell containing the string `\"\"\"__Your_Code_Here__\"\"\"`.\n",
    "\n",
    "- **Input 1**: a dictionary `avg_loan_income_by_state` representing the average loan amount and average applicant income by state.\n",
    "- **Input 2**: a dictionary `state_abbr_stat` representing the number of applicants by state.\n",
    "- **Input 3**: a tuple `(avg_loan_amount, avg_applicant_income)` representing the average loan amount and average applicant income for all applicants.\n",
    "- **Input 4**: a dictionary `state_avg_loan_income_ratio` representing the ratio of the average loan amount to the average applicant income by state.\n",
    "- **Plot**: a scatter plot of the average loan amount and average applicant income by state.\n",
    "    - **x-axis**: average loan amount.\n",
    "    - **y-axis**: average applicant income.\n",
    "    - **size**: the number of applicants, where the radius of each circle is proportional to the square root of the number of applicants. You may use some scaling factor to make the circles well sized.\n",
    "    - **color**: the ratio of the average loan amount to the average applicant income, with the colormap set to `copper_r`.\n",
    "    - **vertical line**: the average loan amount for all applicants (in a dashed black line).\n",
    "    - **horizontal line**: the average applicant income for all applicants (in a dashed black line)."
   ]
  },
  {
   "cell_type": "markdown",
   "metadata": {},
   "source": [
    "`plt.scatter()` can be used to create a scatter plot. It takes the following arguments:\n",
    "- `x`: a list of numbers representing the x-coordinates of the data points.\n",
    "- `y`: a list of numbers representing the y-coordinates of the data points.\n",
    "- `s`: a list of numbers representing the size (area) of the data points.\n",
    "- `c`: a list of numbers representing the color of the data points.\n",
    "- `cmap`: a string representing the colormap, which determines how the color values `c` are mapped to colors.\n",
    "\n",
    "A typical usage of `plt.scatter()` is as follows:\n",
    "```python\n",
    "\n",
    "# specify the x, y, s, c\n",
    "x_list = [1, 2.5, 0.8, -1.2]\n",
    "y_list = [3, -1.5, 2.8, 0.2]\n",
    "s_list = [100, 400, 800, 200]\n",
    "c_list = [0.1, 0.5, 0.8, 0.2]\n",
    "\n",
    "# create the scatter plot, and specify the colormap\n",
    "plt.scatter(x_list, y_list, s=s_list, c=c_list, cmap='copper_r')\n",
    "\n",
    "# add the colorbar to the plot\n",
    "plt.colorbar()\n",
    "\n",
    "# show the plot\n",
    "plt.show()\n",
    "```"
   ]
  },
  {
   "cell_type": "markdown",
   "metadata": {},
   "source": [
    "To add vertical reference lines and horizontal reference lines, you can use `plt.axvline()` and `plt.axhline()`, respectively. For example:\n",
    "\n",
    "- To add a vertical line at x=1.5, with a black dashed line:\n",
    "    ```python\n",
    "    plt.axvline(x=1.5, color='k', linestyle='--')\n",
    "    ```\n",
    "    `x` is the x-coordinate of the vertical line, `color` `k` is short for black, and `linestyle` `--` specifies a dashed line.\n",
    "- To add a horizontal line at y=-0.3, with a black dashed line:\n",
    "    ```python\n",
    "    plt.axhline(y=-0.3, color='k', linestyle='--')\n",
    "    ```\n",
    "    `y` is the y-coordinate of the horizontal line, `color` `k` is short for black, and `linestyle` `--` specifies a dashed line."
   ]
  },
  {
   "cell_type": "code",
   "execution_count": 42,
   "metadata": {},
   "outputs": [],
   "source": [
    "def plot_avg_loan_income_by_state(avg_loan_income_by_state, state_abbr_stat, avg_loan_income, state_avg_loan_income_ratio):\n",
    "    \"\"\"\n",
    "    Plot the average loan amount and average applicant income by state\n",
    "    IN: avg_loan_income_by_state, dict{str: tuple(float, float)}, the average loan amount and average applicant income by state\n",
    "        state_abbr_stat, dict{str: int}, the number of applicants by state\n",
    "        avg_loan_income, tuple(float, float), the average loan amount and average applicant income of all applicants\n",
    "        state_avg_loan_income_ratio, dict{str: float}, the ratio of the average loan amount and average applicant income by state\n",
    "    \"\"\"\n",
    "\n",
    "    # extract the states, average loan amounts, average applicant incomes, sizes, and colors\n",
    "    states = []\n",
    "    avg_loans = []\n",
    "    avg_incomes = []\n",
    "    sizes = []\n",
    "    colors = []\n",
    "\n",
    "    for st, (loan, income) in avg_loan_income_by_state.items():\n",
    "        states.append(st)\n",
    "        avg_loans.append(loan)\n",
    "        avg_incomes.append( income)\n",
    "        sizes.append((state_abbr_stat.get(st,0) ** 0.5) * 20)\n",
    "        colors.append(state_avg_loan_income_ratio.get(st,0))\n",
    "\n",
    "    # increase the size of the plot to avoid crowding\n",
    "    plt.figure(figsize=(15, 10))\n",
    "    # use ggplot style. it's gray background, easy for colors to stand out\n",
    "    plt.figure(figsize=(15, 10))\n",
    "    plt.style.use('ggplot')\n",
    "    # plot the average loan amount and average applicant income by state\n",
    "    plt.scatter(avg_loans, avg_incomes, s=sizes, c=colors, cmap='copper_r')\n",
    "    # add horizontal and vertical lines for the average loan amount and average applicant income of all applicants\n",
    "    plt.axvline(x=avg_loan_income[0], color='k', linestyle='--')\n",
    "    plt.axhline(y=avg_loan_income[1], color='k', linestyle='--')\n",
    "\n",
    "    # add state names to the plot\n",
    "    for i, state_abbr in enumerate(states):\n",
    "        plt.text(avg_loans[i], avg_incomes[i], state_abbr, fontsize=12, c='white', ha='center', va='center')\n",
    "\n",
    "    # add labels, title, and colorbar to the plot\n",
    "    plt.xlabel('Average Loan Amount')\n",
    "    plt.ylabel('Average Applicant Income')\n",
    "    plt.title('Average Loan Amount and Average Applicant Income by State')\n",
    "    plt.colorbar()\n",
    "    plt.show()"
   ]
  },
  {
   "cell_type": "markdown",
   "metadata": {},
   "source": [
    "Before moving on to the next subtask, please run the cell below to plot the 2D scatter plot for the average loan amount and average applicant income by state."
   ]
  },
  {
   "cell_type": "code",
   "execution_count": 44,
   "metadata": {},
   "outputs": [
    {
     "data": {
      "text/plain": [
       "<Figure size 1500x1000 with 0 Axes>"
      ]
     },
     "metadata": {},
     "output_type": "display_data"
    },
    {
     "data": {
      "image/png": "[encoded data removed]",
      "text/plain": [
       "<Figure size 1500x1000 with 2 Axes>"
      ]
     },
     "metadata": {},
     "output_type": "display_data"
    }
   ],
   "source": [
    "if __name__ == \"__main__\":\n",
    "    # The code in this cell calls the function defined above.\n",
    "    # It plots the average loan amount and average applicant income by state.\n",
    "    # Before proceeding, it is a good idea to run this code to see the plot.\n",
    "    plot_avg_loan_income_by_state(avg_loan_income_by_state, final_stats[0], avg_loan_income,state_avg_loan_income_ratio)"
   ]
  },
  {
   "cell_type": "markdown",
   "metadata": {},
   "source": [
    "### Task 3 (15 pts): Creation of a Basic SQL Table from the Loan-Income-State Data"
   ]
  },
  {
   "cell_type": "markdown",
   "metadata": {},
   "source": [
    "#### The first step to complete the following tasks is to define two helper functions described below. "
   ]
  },
  {
   "cell_type": "markdown",
   "metadata": {},
   "source": [
    "Before moving on to the next subtask, please run the cell below to define the helper functions."
   ]
  },
  {
   "cell_type": "code",
   "execution_count": null,
   "metadata": {},
   "outputs": [],
   "source": [
    "WAIT_TIME = 10\n",
    "def connect_to_db(db_name):\n",
    "    \"\"\"\n",
    "    Connect to the database\n",
    "    IN: db_name, str, the name of the database in MySQL\n",
    "    OUT: mydb, the database connection\n",
    "    EXCEPTION: TimeoutError, if the database is not running\n",
    "    \"\"\"\n",
    "\n",
    "    num_of_tries = 0\n",
    "    while num_of_tries < WAIT_TIME:\n",
    "        try:\n",
    "            mydb = connect(host=\"127.0.0.1\", user=\"root\", db=db_name)\n",
    "            if mydb.is_connected():\n",
    "                print(\"Connected\")\n",
    "                break\n",
    "        except Error as e:\n",
    "            print(e)\n",
    "\n",
    "        num_of_tries += 1\n",
    "        print(\"Waiting for MySQL to start\")\n",
    "        time.sleep(1)\n",
    "\n",
    "    if num_of_tries >= WAIT_TIME:\n",
    "        raise TimeoutError(\"MySQL is not running\")\n",
    "\n",
    "    return mydb"
   ]
  },
  {
   "cell_type": "code",
   "execution_count": null,
   "metadata": {},
   "outputs": [],
   "source": [
    "def do_query(cursor, query):\n",
    "    \"\"\"\n",
    "    Execute a query and print the results\n",
    "    IN: cursor, the cursor object\n",
    "        query, str, the query to be executed\n",
    "    OUT: list[tuple], the results of the query\n",
    "    \"\"\"\n",
    "    cursor.execute(query)\n",
    "    res = cursor.fetchall()\n",
    "    print(cursor.column_names)\n",
    "    for row in res:\n",
    "        print(row)\n",
    "    return res"
   ]
  },
  {
   "cell_type": "code",
   "execution_count": null,
   "metadata": {},
   "outputs": [],
   "source": [
    "if __name__ == \"__main__\":\n",
    "    database_name = \"HMDA\" # change this to your database name\n",
    "    mydb = connect_to_db(database_name)\n",
    "    cursor = mydb.cursor()"
   ]
  },
  {
   "cell_type": "markdown",
   "metadata": {},
   "source": [
    "#### Subtask 3.1 (6 pts): Get the specification of an SQL Table schema encoded by a string"
   ]
  },
  {
   "cell_type": "markdown",
   "metadata": {},
   "source": [
    "Write a function `get_table_specifications_sql` that takes one input and produces one output as indicated below. You just need to complete the missing code in the cell containing the string `\"\"\"__Your_Code_Here__\"\"\"`.\n",
    "\n",
    "- **INPUT**: a string `table_name` representing the name of the table.\n",
    "- **OUTPUT**: a string `table_specifications_sql` encoding the `CREATE TABLE` statements for the SQL database.\n",
    "\n",
    "Specifically, the schema of the SQL database is as follows:\n",
    "\n",
    "- `id`: an integer primary key, auto-incremented.\n",
    "- `state_abbr`: a string of fixed length 2, and it cannot be null.\n",
    "- `loan_amount`: an integer, and it cannot be null.\n",
    "- `applicant_income`: an integer, and it cannot be null."
   ]
  },
  {
   "cell_type": "code",
   "execution_count": null,
   "metadata": {},
   "outputs": [],
   "source": [
    "def get_table_specifications_sql(table_name):\n",
    "    \"\"\"\n",
    "    Get the create table statements for the SQL database\n",
    "    IN: table_name, str, the name of the table\n",
    "    OUT: table_specifications_sql, str, the create table statements for the SQL database\n",
    "    \"\"\"\n",
    "\n",
    "    table_specifications_sql = f\"\"\"\n",
    "    __Your_Code_Here__\n",
    "    \"\"\"\n",
    "    return table_specifications_sql"
   ]
  },
  {
   "cell_type": "code",
   "execution_count": null,
   "metadata": {},
   "outputs": [],
   "source": [
    "if __name__ == \"__main__\":\n",
    "    table_name = \"applicants\" # change this to your table name\n",
    "    table_specifications_sql = get_table_specifications_sql(table_name)\n",
    "    print(table_specifications_sql)\n",
    "    do_query(cursor, table_specifications_sql)"
   ]
  },
  {
   "cell_type": "markdown",
   "metadata": {},
   "source": [
    "#### Subtask 3.2 (9 pts): Insert Loan-Income-State data into the SQL Table"
   ]
  },
  {
   "cell_type": "markdown",
   "metadata": {},
   "source": [
    "Write a function `insert_data` that takes four inputs and produces one output as indicated below. You just need to complete the missing code in the cell containing the string `\"\"\"__Your_Code_Here__\"\"\"`.\n",
    "\n",
    "- **Input 1**: a connection `mydb` to the SQL database.\n",
    "- **Input 2**: a cursor `cursor` to the SQL database.\n",
    "- **Input 3**: a string `table_name` representing the name of the table.\n",
    "- **Input 4**: a list of tuples `cleaned_data` containing the cleaned data from the CSV file.\n",
    "- **Output**: an integer representing the number of rows inserted into the table.\n",
    "\n",
    "Note: make sure to commit the changes to the database."
   ]
  },
  {
   "cell_type": "code",
   "execution_count": null,
   "metadata": {},
   "outputs": [],
   "source": [
    "def insert_data(mydb, cursor, table_name, cleaned_data):\n",
    "    \"\"\"\n",
    "    Insert the cleaned data into the table\n",
    "    IN: mydb, the database connection\n",
    "        cursor, the cursor object to the database\n",
    "        table_name, str, the name of the table\n",
    "        cleaned_data, list[tuple], the cleaned data\n",
    "    OUT: n_rows_inserted, int, the number of rows inserted into the table\n",
    "    \"\"\"\n",
    "\n",
    "    insert_sql = f\"\"\"\n",
    "    __Your_Code_Here__\n",
    "    \"\"\"\n",
    "\n",
    "    # Insert the data in batches of 10,000 rows to avoid memory errors\n",
    "    n_rows_inserted = 0\n",
    "    for i in range(0, len(cleaned_data), 10_000):\n",
    "        \"\"\"__Your_Code_Here__\"\"\"\n",
    "        \n",
    "    return n_rows_inserted"
   ]
  },
  {
   "cell_type": "code",
   "execution_count": null,
   "metadata": {},
   "outputs": [],
   "source": [
    "if __name__ == \"__main__\":\n",
    "    mydb.rollback()\n",
    "    n_rows_inserted = insert_data(mydb, cursor, table_name, cleaned_data)\n",
    "    print(n_rows_inserted)"
   ]
  },
  {
   "cell_type": "markdown",
   "metadata": {},
   "source": [
    "### Task 4 (35 pts): Detection of High-Loan and High-Risk Applicants and Extension of the Basic SQL Table with this Information"
   ]
  },
  {
   "cell_type": "markdown",
   "metadata": {},
   "source": [
    "#### Subtask 4.1 (15 pts): Flag high loan applicants"
   ]
  },
  {
   "cell_type": "markdown",
   "metadata": {},
   "source": [
    "##### Subsubtask 4.1.1 (4 pts): Add a new column `high_loan_flag` to the SQL Table"
   ]
  },
  {
   "cell_type": "markdown",
   "metadata": {},
   "source": [
    "Write a function `get_add_high_loan_flag_sql` that takes one input and produces one output as indicated below. You just need to complete the missing code in the cell containing the string `\"\"\"__Your_Code_Here__\"\"\"`.\n",
    "\n",
    "- **Input**: a string `table_name` representing the name of the table.\n",
    "- **Output**: a string `add_high_loan_flag_sql` encoding the `ALTER TABLE` statement to add a new column `high_loan_flag` to the SQL database.\n",
    "\n",
    "Specifically, the `high_loan_flag` is a boolean column that defaults to False and cannot be null.\n",
    "\n",
    "Hint: You can specify a column as boolean type in MySQL using the `BOOLEAN` keyword."
   ]
  },
  {
   "cell_type": "code",
   "execution_count": null,
   "metadata": {},
   "outputs": [],
   "source": [
    "def get_add_high_loan_flag_sql(table_name):\n",
    "    \"\"\"\n",
    "    Get the alter table statement to add a new column high_loan_flag to the SQL database\n",
    "    IN: table_name, str, the name of the table\n",
    "    OUT: add_high_loan_flag_sql, str, the alter table statement to add a new column high_loan_flag to the SQL database\n",
    "    \"\"\"\n",
    "\n",
    "    return f\"\"\"\n",
    "    __Your_Code_Here__\n",
    "    \"\"\""
   ]
  },
  {
   "cell_type": "code",
   "execution_count": null,
   "metadata": {},
   "outputs": [],
   "source": [
    "if __name__ == \"__main__\":\n",
    "    add_high_loan_flag_sql = get_add_high_loan_flag_sql(table_name)\n",
    "    print(add_high_loan_flag_sql)\n",
    "    do_query(cursor, add_high_loan_flag_sql)\n",
    "    mydb.commit()"
   ]
  },
  {
   "cell_type": "markdown",
   "metadata": {},
   "source": [
    "##### Subsubtask 4.1.2 (7 pts): Update the new column `high_loan` in the SQL Table"
   ]
  },
  {
   "cell_type": "markdown",
   "metadata": {},
   "source": [
    "Write a function `get update_high_loan_flag_sql` that takes two inputs and produces one output as indicated below. You just need to complete the missing code in the cell containing the string `\"\"\"__Your_Code_Here__\"\"\"`.\n",
    "\n",
    "- **Input 1**: a string `table_name` representing the name of the table.\n",
    "- **Input 2**: an integer `loan_threshold` representing the threshold for the loan amount to be considered a high loan. The default value is 700.\n",
    "- **Output**: a string `update_high_loan_flag_sql` encoding the `UPDATE` statement to set the `high_loan_flag` to True for rows with a loan amount greater than the threshold.\n",
    "\n",
    "Note: A loan amount is considered a high loan if it is strictly greater than the threshold.\n",
    "\n",
    "Hint: You can use the `UPDATE` statement to set the value of the `high_loan_flag` column to True for rows with a loan amount greater than the threshold.\n",
    "\n",
    "The syntax for the `UPDATE` statement is as follows:\n",
    "```sql\n",
    "UPDATE table_name\n",
    "SET column_name = updated_value\n",
    "WHERE condition;\n",
    "```"
   ]
  },
  {
   "cell_type": "code",
   "execution_count": null,
   "metadata": {},
   "outputs": [],
   "source": [
    "def get_update_high_loan_flag_sql(table_name, loan_threshold=700):\n",
    "    \"\"\"\n",
    "    Get the update statement to set the high_loan_flag to True if the loan amount is greater than the threshold\n",
    "    IN: table_name, str, the name of the table\n",
    "        loan_threshold, int, the threshold of the loan amount to be considered as high loan\n",
    "    OUT: update_high_loan_flag_sql, str, the update statement to set the high_loan_flag to True if the loan amount is greater than the threshold\n",
    "    \"\"\"\n",
    "\n",
    "    return f\"\"\"\n",
    "    __Your_Code_Here__\n",
    "    \"\"\""
   ]
  },
  {
   "cell_type": "code",
   "execution_count": null,
   "metadata": {},
   "outputs": [],
   "source": [
    "if __name__ == \"__main__\":\n",
    "    update_high_loan_flag_sql = get_update_high_loan_flag_sql(table_name)\n",
    "    print(update_high_loan_flag_sql)\n",
    "    do_query(cursor, update_high_loan_flag_sql)\n",
    "    mydb.commit()"
   ]
  },
  {
   "cell_type": "markdown",
   "metadata": {},
   "source": [
    "##### Subsubtask 4.1.3 (4 pts): Find the average applicant income of high loan applicants"
   ]
  },
  {
   "cell_type": "markdown",
   "metadata": {},
   "source": [
    "Write a function `get_avg_income_high_loan_sql` that takes one input and produces one output as indicated below. You just need to complete the missing code in the cell containing the string `\"\"\"__Your_Code_Here__\"\"\"`.\n",
    "\n",
    "- **Input**: a string `table_name` representing the name of the table.\n",
    "- **Output**: a string `avg_income_high_loan_sql` encoding the SQL query to find the average applicant income of high loan applicants.\n",
    "\n",
    "Hint: Boolean values can be compared using `boolean_column = 1` for True, and `boolean_column = 0` for False."
   ]
  },
  {
   "cell_type": "code",
   "execution_count": null,
   "metadata": {},
   "outputs": [],
   "source": [
    "def get_avg_income_high_loan_sql(table_name):\n",
    "    \"\"\"\n",
    "    Get the query to find the average applicant income of high loan applicants\n",
    "    IN: table_name, str, the name of the table\n",
    "    OUT: avg_income_high_loan_sql, str, the query to find the average applicant income of high loan applicants\n",
    "    \"\"\"\n",
    "\n",
    "    return f\"\"\"\n",
    "    __Your_Code_Here__\n",
    "    \"\"\""
   ]
  },
  {
   "cell_type": "code",
   "execution_count": null,
   "metadata": {},
   "outputs": [],
   "source": [
    "if __name__ == \"__main__\":\n",
    "    avg_income_high_loan_sql = get_avg_income_high_loan_sql(table_name)\n",
    "    print(avg_income_high_loan_sql)\n",
    "    do_query(cursor, avg_income_high_loan_sql)"
   ]
  },
  {
   "cell_type": "markdown",
   "metadata": {},
   "source": [
    "#### Subtask 4.2 (20 pts): Label applicants with a Low/Moderate/High Risk flag"
   ]
  },
  {
   "cell_type": "markdown",
   "metadata": {},
   "source": [
    "##### Subsubtask 4.2.1 (4 pts): Add a new column `risk_flag` to the SQL Table"
   ]
  },
  {
   "cell_type": "markdown",
   "metadata": {},
   "source": [
    "Write a function `get_add_risk_flag_sql` that takes one input and produces one output as indicated below. You just need to complete the missing code in the cell containing the string `\"\"\"__Your_Code_Here__\"\"\"`.\n",
    "\n",
    "- **Input**: a string `table_name` representing the name of the table.\n",
    "- **Output**: a string `add_risk_flag_sql` encoding the `ALTER TABLE` statement to add a new column `risk_flag` to the SQL database.\n",
    "\n",
    "Specifically, the `risk_flag` is a string column of variable length up to two characters, defaults to \"H\" (High risk), and cannot be null."
   ]
  },
  {
   "cell_type": "code",
   "execution_count": null,
   "metadata": {},
   "outputs": [],
   "source": [
    "\"\"\"\n",
    "Write a function `get_add_risk_flag_sql` that:\n",
    "\n",
    "- **Input**: a string `table_name` representing the name of the table.\n",
    "- **Output**: a string `add_risk_flag_sql` encoding the alter table statement to add a new column `risk_flag` to the SQL database.\n",
    "\n",
    "Specifically, the `risk_flag` is a string column of variable length up to two characters, and it cannot be null.\n",
    "\"\"\"\n",
    "\n",
    "def get_add_risk_flag_sql(table_name):\n",
    "    \"\"\"\n",
    "    Get the alter table statement to add a new column risk_flag to the SQL database\n",
    "    IN: table_name, str, the name of the table\n",
    "    OUT: add_risk_flag_sql, str, the alter table statement to add a new column risk_flag to the SQL database\n",
    "    \"\"\"\n",
    "\n",
    "    return f\"\"\"\n",
    "    __Your_Code_Here__\n",
    "    \"\"\""
   ]
  },
  {
   "cell_type": "code",
   "execution_count": null,
   "metadata": {},
   "outputs": [],
   "source": [
    "if __name__ == \"__main__\":\n",
    "    add_risk_flag_sql = get_add_risk_flag_sql(table_name)\n",
    "    print(add_risk_flag_sql)\n",
    "    do_query(cursor, add_risk_flag_sql)\n",
    "    mydb.commit()"
   ]
  },
  {
   "cell_type": "markdown",
   "metadata": {},
   "source": [
    "##### Subsubtask 4.2.2 (10 pts): Update the new column `risk_flag` in the SQL Table"
   ]
  },
  {
   "cell_type": "markdown",
   "metadata": {},
   "source": [
    "Write a function `get_update_risk_flag_sql` that takes two inputs and produces one output as indicated below. You just need to complete the missing code in the cell containing the string `\"\"\"__Your_Code_Here__\"\"\"`.\n",
    "\n",
    "- **Input 1**: a string `table_name` representing the name of the table.\n",
    "- **Input 2**: a pair of integers `(low_mod_threshold, mod_high_threshold)` representing the thresholds for the ratio of the average loan amount to average applicant income, to be considered as \"L\", \"M\", or \"H\". Defaults to (0.4, 0.8).\n",
    "- **Output**: a string `update_risk_flag_sql` encoding the SQL query to update the risk flag of the applicants.\n",
    "\n",
    "Hint: You can use the `CASE` statement in SQL to update the column based on the condition.\n",
    "\n",
    "```sql\n",
    "...\n",
    "CASE\n",
    "    WHEN condition1 THEN value1\n",
    "    WHEN condition2 THEN value2\n",
    "    ...\n",
    "    ELSE default_value\n",
    "END"
   ]
  },
  {
   "cell_type": "code",
   "execution_count": null,
   "metadata": {},
   "outputs": [],
   "source": [
    "def get_update_risk_flag_sql(table_name, low_mod_high_thresholds=(0.4, 0.8)):\n",
    "    \"\"\"\n",
    "    Get the update statement to set the risk_flag based on the ratio of the average loan amount and average applicant income\n",
    "    IN: table_name, str, the name of the table\n",
    "        low_mod_high_thresholds, tuple(float, float), the thresholds of the ratio of the average loan amount and average applicant income to be considered as \"L\"/\"M\"/\"H\"\n",
    "    OUT: update_risk_flag_sql, str, the update statement to set the risk_flag based on the ratio of the average loan amount and average applicant income\n",
    "    \"\"\"\n",
    "\n",
    "    low, mod = low_mod_high_thresholds\n",
    "    return f\"\"\"\n",
    "    __Your_Code_Here__\n",
    "    \"\"\"\n"
   ]
  },
  {
   "cell_type": "code",
   "execution_count": null,
   "metadata": {},
   "outputs": [],
   "source": [
    "if __name__ == \"__main__\":\n",
    "    update_risk_flag_sql = get_update_risk_flag_sql(table_name)\n",
    "    print(update_risk_flag_sql)\n",
    "    do_query(cursor, update_risk_flag_sql)\n",
    "    mydb.commit()"
   ]
  },
  {
   "cell_type": "markdown",
   "metadata": {},
   "source": [
    "##### Subsubtask 4.2.3 (6 pts): Find the percentage of high-risk applicants per state"
   ]
  },
  {
   "cell_type": "markdown",
   "metadata": {},
   "source": [
    "Write a function `get_high_risk_percentage_sql` that takes one input and produces one output as indicated below. You just need to complete the missing code in the cell containing the string `\"\"\"__Your_Code_Here__\"\"\"`.\n",
    "\n",
    "- **Input**: a string `table_name` representing the name of the table.\n",
    "- **Output**: a string `high_risk_percentage_sql` encoding the SQL query to find the percentage of high-risk applicants per state.\n",
    "\n",
    "Note: the percentage of high-risk applicants is the number of high-risk applicants divided by the total number of applicants per state.\n",
    "\n",
    "The SQL query should return a table with the following columns:\n",
    "\n",
    "- `state_abbr`: the state abbreviation.\n",
    "- `high_risk_percentage`: as two decimal floating-point numbers. For example, 0.25 represents 25%.\n",
    "\n",
    "Hint: You may need to nest the `SELECT` statement in the `FROM` clause to calculate the total number of applicants per state.\n",
    "\n",
    "```sql\n",
    "SELECT temp_table.state_abbr, ...\n",
    "FROM (\n",
    "    SELECT ...\n",
    "    FROM table_name\n",
    ") AS temp_table\n",
    "```"
   ]
  },
  {
   "cell_type": "code",
   "execution_count": null,
   "metadata": {},
   "outputs": [],
   "source": [
    "\"\"\"\n",
    "Write a function `get_high_risk_percentage_sql` that:\n",
    "\n",
    "- **Input**: a string `table_name` representing the name of the table.\n",
    "- **Output**: a string `high_risk_percentage_sql` encoding the SQL query to find the percentage of high-risk applicants per state.\n",
    "\n",
    "Note: the percentage of high-risk applicants is the number of high-risk applicants divided by the total number of applicants per state.\n",
    "\n",
    "The SQL query should return a table with the following columns:\n",
    "\n",
    "- `state_abbr`: the state abbreviation.\n",
    "- `high_risk_percentage`: as integer representing the percentage of high-risk applicants.\n",
    "\"\"\"\n",
    "\n",
    "def get_high_risk_percentage_sql(table_name):\n",
    "    \"\"\"\n",
    "    Get the query to find the percentage of high-risk applicants per state\n",
    "    IN: table_name, str, the name of the table\n",
    "    OUT: high_risk_percentage_sql, str, the query to find the percentage of high-risk applicants per state\n",
    "    \"\"\"\n",
    "\n",
    "    return f\"\"\"\n",
    "    __Your_Code_Here__\n",
    "    \"\"\""
   ]
  },
  {
   "cell_type": "code",
   "execution_count": null,
   "metadata": {},
   "outputs": [],
   "source": [
    "if __name__ == \"__main__\":\n",
    "    high_risk_percentage_sql = get_high_risk_percentage_sql(table_name)\n",
    "    print(high_risk_percentage_sql)\n",
    "    high_risk_percentage = do_query(cursor, high_risk_percentage_sql)"
   ]
  },
  {
   "cell_type": "markdown",
   "metadata": {},
   "source": [
    "### Task 5 (5 pts): Creation of a Scatter Plot of High-Risk States (average income versus average loan amount)"
   ]
  },
  {
   "cell_type": "markdown",
   "metadata": {},
   "source": [
    "Write a function `plot_high_risk_percentage` that takes four inputs and produces a plot as indicated below. You just need to complete the missing code in the cell containing the string `\"\"\"__Your_Code_Here__\"\"\"`.\n",
    "\n",
    "- **Input 1**: a dictionary `avg_loan_income_by_state` representing the average loan amount and average applicant income by state.\n",
    "- **Input 2**: a dictionary `state_abbr_stat` representing the number of applicants by state.\n",
    "- **Input 3**: a tuple `(avg_loan_amount, avg_applicant_income)` representing the average loan amount and average applicant income for all applicants.\n",
    "- **Input 4**: a list of tuples `high_risk_percentage` representing the percentage of high-risk applicants per state.\n",
    "- **Plot**: a scatter plot of the average loan amount and average applicant income by state.\n",
    "    - **x-axis**: average loan amount.\n",
    "    - **y-axis**: average applicant income.\n",
    "    - **size**: the number of applicants, where the radius of each circle is proportional to the square root of the number of applicants. You may use some scaling factor to make the circles well sized.\n",
    "    - **color**: the percentage of high-risk applicants per state, with the colormap set to `copper_r`.\n",
    "    - **vertical line**: the average loan amount for all applicants (in a dashed black line).\n",
    "    - **horizontal line**: the average applicant income for all applicants (in a dashed black line)."
   ]
  },
  {
   "cell_type": "code",
   "execution_count": null,
   "metadata": {},
   "outputs": [],
   "source": [
    "def plot_high_risk_percentage(avg_loan_income_by_state, state_abbr_stat, avg_loan_income, high_risk_percentage):\n",
    "    \"\"\"\n",
    "    Plot the percentage of high-risk applicants per state\n",
    "    IN: avg_loan_income_by_state, dict{str: tuple(float, float)}, the average loan amount and average applicant income by state\n",
    "        state_abbr_stat, dict{str: int}, the number of applicants by state\n",
    "        avg_loan_income, tuple(float, float), the average loan amount and average applicant income for all applicants\n",
    "        high_risk_percentage, list[tuple(str, float)], the percentage of high-risk applicants per state\n",
    "    \"\"\"\n",
    "\n",
    "    # convert the high_risk_percentage to a dictionary\n",
    "    high_risk_dict = dict(high_risk_percentage)\n",
    "\n",
    "    # extract the states, average loan amounts, average applicant incomes, sizes, and colors\n",
    "    states = []\n",
    "    avg_loans = []\n",
    "    avg_incomes = []\n",
    "    sizes = []\n",
    "    colors = []\n",
    "    for state, (loan, income) in avg_loan_income_by_state.items()\n",
    "        states.append(state)\n",
    "        avg_loans.append(loan)\n",
    "        avg_incomes.append(income)\n",
    "        sizes.append(np.sqrt(state_abbr_stat[state]) * 10)  \n",
    "        colors.append(high_risk_dict.get(state, 0)) \n",
    "\n",
    "    # increase the size of the plot to avoid crowding\n",
    "    plt.figure(figsize=(15, 10))\n",
    "    # use ggplot style. it's gray background, easy for colors to stand out\n",
    "    plt.style.use('ggplot')\n",
    "\n",
    "    \n",
    "    # plot the average loan amount and average applicant income by state\n",
    "    scatter = plt.scatter(avg_loans, avg_incomes, s=sizes, c=colors, cmap='copper_r', alpha=0.8, edgecolors=\"k\")\n",
    "\n",
    "    # add horizontal and vertical lines for the average loan amount and average applicant income of all applicants\n",
    "    plt.axvline(x=avg_loan_income[0], color='black', linestyle='--')\n",
    "    plt.axhline(y=avg_loan_income[1], color='black', linestyle='--')\n",
    "\n",
    "    # add state names to the plot\n",
    "    for i, state_abbr in enumerate(states):\n",
    "        plt.text(avg_loans[i], avg_incomes[i], state_abbr, fontsize=12, c='white', ha='center', va='center')\n",
    "\n",
    "    # add labels, title, and colorbar to the plot\n",
    "    plt.xlabel('Average Loan Amount')\n",
    "    plt.ylabel('Average Applicant Income')\n",
    "    plt.title('Average Loan Amount and Average Applicant Income by State')\n",
    "    plt.colorbar()\n",
    "    plt.show()"
   ]
  },
  {
   "cell_type": "markdown",
   "metadata": {},
   "source": [
    "### Note: Do not forget to close the connection to the database."
   ]
  },
  {
   "cell_type": "code",
   "execution_count": null,
   "metadata": {},
   "outputs": [],
   "source": [
    "if __name__ == \"__main__\":\n",
    "    cursor.close()\n",
    "    mydb.close()"
   ]
  }
 ],
 "metadata": {
  "kernelspec": {
   "display_name": "Python (miniforge base)",
   "language": "python",
   "name": "miniforge-base"
  },
  "language_info": {
   "codemirror_mode": {
    "name": "ipython",
    "version": 3
   },
   "file_extension": ".py",
   "mimetype": "text/x-python",
   "name": "python",
   "nbconvert_exporter": "python",
   "pygments_lexer": "ipython3",
   "version": "3.12.11"
  }
 },
 "nbformat": 4,
 "nbformat_minor": 2
}
